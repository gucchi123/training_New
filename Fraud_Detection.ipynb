{
 "cells": [
  {
   "cell_type": "markdown",
   "metadata": {},
   "source": [
    "### 一連の処理は以下の通り。\n",
    "\n",
    "### 1.前処理を行わずに、ランダムフォレストで重要変数を確認\n",
    "### 2.重要ではない変数を除いて、精度の向上を確認\n",
    "### 3.示唆の抽出を行う\n",
    "### 4.業務効率化の観点からconfusionマトリックスを確認"
   ]
  },
  {
   "cell_type": "code",
   "execution_count": 1,
   "metadata": {
    "collapsed": true
   },
   "outputs": [],
   "source": [
    "import numpy as np\n",
    "import pandas as pd\n",
    "\n",
    "#StandardScalerは参考にある標準化のためにインポート\n",
    "from sklearn.preprocessing import StandardScaler\n",
    "from sklearn.model_selection import train_test_split\n",
    "from sklearn.metrics import confusion_matrix\n",
    "from sklearn.metrics import roc_auc_score\n",
    "from sklearn.ensemble import RandomForestClassifier\n",
    "\n",
    "#不均衡データの処理をするために使用\n",
    "from imblearn.under_sampling import RandomUnderSampler\n",
    "\n",
    "import matplotlib.pyplot as plt\n",
    "%matplotlib inline"
   ]
  },
  {
   "cell_type": "code",
   "execution_count": 2,
   "metadata": {},
   "outputs": [
    {
     "data": {
      "text/html": [
       "<div>\n",
       "<style>\n",
       "    .dataframe thead tr:only-child th {\n",
       "        text-align: right;\n",
       "    }\n",
       "\n",
       "    .dataframe thead th {\n",
       "        text-align: left;\n",
       "    }\n",
       "\n",
       "    .dataframe tbody tr th {\n",
       "        vertical-align: top;\n",
       "    }\n",
       "</style>\n",
       "<table border=\"1\" class=\"dataframe\">\n",
       "  <thead>\n",
       "    <tr style=\"text-align: right;\">\n",
       "      <th></th>\n",
       "      <th>step</th>\n",
       "      <th>type</th>\n",
       "      <th>amount</th>\n",
       "      <th>nameOrig</th>\n",
       "      <th>oldbalanceOrg</th>\n",
       "      <th>newbalanceOrig</th>\n",
       "      <th>nameDest</th>\n",
       "      <th>oldbalanceDest</th>\n",
       "      <th>newbalanceDest</th>\n",
       "      <th>isFraud</th>\n",
       "      <th>isFlaggedFraud</th>\n",
       "    </tr>\n",
       "  </thead>\n",
       "  <tbody>\n",
       "    <tr>\n",
       "      <th>0</th>\n",
       "      <td>1</td>\n",
       "      <td>PAYMENT</td>\n",
       "      <td>9839.64</td>\n",
       "      <td>C1231006815</td>\n",
       "      <td>170136.0</td>\n",
       "      <td>160296.36</td>\n",
       "      <td>M1979787155</td>\n",
       "      <td>0.0</td>\n",
       "      <td>0.0</td>\n",
       "      <td>0</td>\n",
       "      <td>0</td>\n",
       "    </tr>\n",
       "    <tr>\n",
       "      <th>1</th>\n",
       "      <td>1</td>\n",
       "      <td>PAYMENT</td>\n",
       "      <td>1864.28</td>\n",
       "      <td>C1666544295</td>\n",
       "      <td>21249.0</td>\n",
       "      <td>19384.72</td>\n",
       "      <td>M2044282225</td>\n",
       "      <td>0.0</td>\n",
       "      <td>0.0</td>\n",
       "      <td>0</td>\n",
       "      <td>0</td>\n",
       "    </tr>\n",
       "    <tr>\n",
       "      <th>2</th>\n",
       "      <td>1</td>\n",
       "      <td>TRANSFER</td>\n",
       "      <td>181.00</td>\n",
       "      <td>C1305486145</td>\n",
       "      <td>181.0</td>\n",
       "      <td>0.00</td>\n",
       "      <td>C553264065</td>\n",
       "      <td>0.0</td>\n",
       "      <td>0.0</td>\n",
       "      <td>1</td>\n",
       "      <td>0</td>\n",
       "    </tr>\n",
       "    <tr>\n",
       "      <th>3</th>\n",
       "      <td>1</td>\n",
       "      <td>CASH_OUT</td>\n",
       "      <td>181.00</td>\n",
       "      <td>C840083671</td>\n",
       "      <td>181.0</td>\n",
       "      <td>0.00</td>\n",
       "      <td>C38997010</td>\n",
       "      <td>21182.0</td>\n",
       "      <td>0.0</td>\n",
       "      <td>1</td>\n",
       "      <td>0</td>\n",
       "    </tr>\n",
       "    <tr>\n",
       "      <th>4</th>\n",
       "      <td>1</td>\n",
       "      <td>PAYMENT</td>\n",
       "      <td>11668.14</td>\n",
       "      <td>C2048537720</td>\n",
       "      <td>41554.0</td>\n",
       "      <td>29885.86</td>\n",
       "      <td>M1230701703</td>\n",
       "      <td>0.0</td>\n",
       "      <td>0.0</td>\n",
       "      <td>0</td>\n",
       "      <td>0</td>\n",
       "    </tr>\n",
       "  </tbody>\n",
       "</table>\n",
       "</div>"
      ],
      "text/plain": [
       "   step      type    amount     nameOrig  oldbalanceOrg  newbalanceOrig  \\\n",
       "0     1   PAYMENT   9839.64  C1231006815       170136.0       160296.36   \n",
       "1     1   PAYMENT   1864.28  C1666544295        21249.0        19384.72   \n",
       "2     1  TRANSFER    181.00  C1305486145          181.0            0.00   \n",
       "3     1  CASH_OUT    181.00   C840083671          181.0            0.00   \n",
       "4     1   PAYMENT  11668.14  C2048537720        41554.0        29885.86   \n",
       "\n",
       "      nameDest  oldbalanceDest  newbalanceDest  isFraud  isFlaggedFraud  \n",
       "0  M1979787155             0.0             0.0        0               0  \n",
       "1  M2044282225             0.0             0.0        0               0  \n",
       "2   C553264065             0.0             0.0        1               0  \n",
       "3    C38997010         21182.0             0.0        1               0  \n",
       "4  M1230701703             0.0             0.0        0               0  "
      ]
     },
     "execution_count": 2,
     "metadata": {},
     "output_type": "execute_result"
    }
   ],
   "source": [
    "df = pd.read_csv('PS_20174392719_1491204439457_log.csv')\n",
    "df.head()"
   ]
  },
  {
   "cell_type": "code",
   "execution_count": 3,
   "metadata": {},
   "outputs": [
    {
     "data": {
      "text/plain": [
       "(6362620, 11)"
      ]
     },
     "execution_count": 3,
     "metadata": {},
     "output_type": "execute_result"
    }
   ],
   "source": [
    "#行列カウント\n",
    "df.shape"
   ]
  },
  {
   "cell_type": "code",
   "execution_count": 4,
   "metadata": {},
   "outputs": [
    {
     "name": "stdout",
     "output_type": "stream",
     "text": [
      "isFraud         0     1\n",
      "type                   \n",
      "CASH_IN   1399284     0\n",
      "CASH_OUT  2233384  4116\n",
      "DEBIT       41432     0\n",
      "PAYMENT   2151495     0\n",
      "TRANSFER   528812  4097\n"
     ]
    }
   ],
   "source": [
    "#typeとisFraudの集計により、CASH_OUTとTRANSFERのみがisFraudに関与することがわかる\n",
    "print(pd.crosstab(df['type'], df['isFraud']))"
   ]
  },
  {
   "cell_type": "code",
   "execution_count": 5,
   "metadata": {
    "collapsed": true
   },
   "outputs": [],
   "source": [
    "#isFraudと関与しないtypeをデータより削除\n",
    "df=df[df[\"type\"]!=\"CASH_IN\"]\n",
    "df=df[df[\"type\"]!=\"DEBIT\"]\n",
    "df=df[df[\"type\"]!=\"PAYMENT\"]"
   ]
  },
  {
   "cell_type": "code",
   "execution_count": 6,
   "metadata": {},
   "outputs": [
    {
     "name": "stdout",
     "output_type": "stream",
     "text": [
      "['CASH_OUT' 'TRANSFER']\n"
     ]
    },
    {
     "data": {
      "text/plain": [
       "2770409"
      ]
     },
     "execution_count": 6,
     "metadata": {},
     "output_type": "execute_result"
    }
   ],
   "source": [
    "#削除の検証\n",
    "print(np.unique(df.type))\n",
    "len(df.index)"
   ]
  },
  {
   "cell_type": "code",
   "execution_count": 7,
   "metadata": {},
   "outputs": [
    {
     "data": {
      "text/html": [
       "<div>\n",
       "<style>\n",
       "    .dataframe thead tr:only-child th {\n",
       "        text-align: right;\n",
       "    }\n",
       "\n",
       "    .dataframe thead th {\n",
       "        text-align: left;\n",
       "    }\n",
       "\n",
       "    .dataframe tbody tr th {\n",
       "        vertical-align: top;\n",
       "    }\n",
       "</style>\n",
       "<table border=\"1\" class=\"dataframe\">\n",
       "  <thead>\n",
       "    <tr style=\"text-align: right;\">\n",
       "      <th></th>\n",
       "      <th>step</th>\n",
       "      <th>type</th>\n",
       "      <th>amount</th>\n",
       "      <th>nameOrig</th>\n",
       "      <th>oldbalanceOrg</th>\n",
       "      <th>newbalanceOrig</th>\n",
       "      <th>nameDest</th>\n",
       "      <th>oldbalanceDest</th>\n",
       "      <th>newbalanceDest</th>\n",
       "      <th>isFraud</th>\n",
       "      <th>isFlaggedFraud</th>\n",
       "    </tr>\n",
       "  </thead>\n",
       "  <tbody>\n",
       "    <tr>\n",
       "      <th>2</th>\n",
       "      <td>1</td>\n",
       "      <td>2</td>\n",
       "      <td>181.00</td>\n",
       "      <td>C1305486145</td>\n",
       "      <td>181.0</td>\n",
       "      <td>0.0</td>\n",
       "      <td>C553264065</td>\n",
       "      <td>0.0</td>\n",
       "      <td>0.00</td>\n",
       "      <td>1</td>\n",
       "      <td>0</td>\n",
       "    </tr>\n",
       "    <tr>\n",
       "      <th>3</th>\n",
       "      <td>1</td>\n",
       "      <td>1</td>\n",
       "      <td>181.00</td>\n",
       "      <td>C840083671</td>\n",
       "      <td>181.0</td>\n",
       "      <td>0.0</td>\n",
       "      <td>C38997010</td>\n",
       "      <td>21182.0</td>\n",
       "      <td>0.00</td>\n",
       "      <td>1</td>\n",
       "      <td>0</td>\n",
       "    </tr>\n",
       "    <tr>\n",
       "      <th>15</th>\n",
       "      <td>1</td>\n",
       "      <td>1</td>\n",
       "      <td>229133.94</td>\n",
       "      <td>C905080434</td>\n",
       "      <td>15325.0</td>\n",
       "      <td>0.0</td>\n",
       "      <td>C476402209</td>\n",
       "      <td>5083.0</td>\n",
       "      <td>51513.44</td>\n",
       "      <td>0</td>\n",
       "      <td>0</td>\n",
       "    </tr>\n",
       "    <tr>\n",
       "      <th>19</th>\n",
       "      <td>1</td>\n",
       "      <td>2</td>\n",
       "      <td>215310.30</td>\n",
       "      <td>C1670993182</td>\n",
       "      <td>705.0</td>\n",
       "      <td>0.0</td>\n",
       "      <td>C1100439041</td>\n",
       "      <td>22425.0</td>\n",
       "      <td>0.00</td>\n",
       "      <td>0</td>\n",
       "      <td>0</td>\n",
       "    </tr>\n",
       "    <tr>\n",
       "      <th>24</th>\n",
       "      <td>1</td>\n",
       "      <td>2</td>\n",
       "      <td>311685.89</td>\n",
       "      <td>C1984094095</td>\n",
       "      <td>10835.0</td>\n",
       "      <td>0.0</td>\n",
       "      <td>C932583850</td>\n",
       "      <td>6267.0</td>\n",
       "      <td>2719172.89</td>\n",
       "      <td>0</td>\n",
       "      <td>0</td>\n",
       "    </tr>\n",
       "  </tbody>\n",
       "</table>\n",
       "</div>"
      ],
      "text/plain": [
       "    step  type     amount     nameOrig  oldbalanceOrg  newbalanceOrig  \\\n",
       "2      1     2     181.00  C1305486145          181.0             0.0   \n",
       "3      1     1     181.00   C840083671          181.0             0.0   \n",
       "15     1     1  229133.94   C905080434        15325.0             0.0   \n",
       "19     1     2  215310.30  C1670993182          705.0             0.0   \n",
       "24     1     2  311685.89  C1984094095        10835.0             0.0   \n",
       "\n",
       "       nameDest  oldbalanceDest  newbalanceDest  isFraud  isFlaggedFraud  \n",
       "2    C553264065             0.0            0.00        1               0  \n",
       "3     C38997010         21182.0            0.00        1               0  \n",
       "15   C476402209          5083.0        51513.44        0               0  \n",
       "19  C1100439041         22425.0            0.00        0               0  \n",
       "24   C932583850          6267.0      2719172.89        0               0  "
      ]
     },
     "execution_count": 7,
     "metadata": {},
     "output_type": "execute_result"
    }
   ],
   "source": [
    "#データ整備\n",
    "type_mapping = {'CASH_OUT':1,'TRANSFER':2}\n",
    "\n",
    "df['type'] = df['type'].map(type_mapping)\n",
    "df.head()"
   ]
  },
  {
   "cell_type": "code",
   "execution_count": 8,
   "metadata": {},
   "outputs": [
    {
     "data": {
      "text/plain": [
       "step              0\n",
       "type              0\n",
       "amount            0\n",
       "nameOrig          0\n",
       "oldbalanceOrg     0\n",
       "newbalanceOrig    0\n",
       "nameDest          0\n",
       "oldbalanceDest    0\n",
       "newbalanceDest    0\n",
       "isFraud           0\n",
       "isFlaggedFraud    0\n",
       "dtype: int64"
      ]
     },
     "execution_count": 8,
     "metadata": {},
     "output_type": "execute_result"
    }
   ],
   "source": [
    "#欠損値（値がないものでNaNと表記されるもの）カウント\n",
    "df.isnull().sum()"
   ]
  },
  {
   "cell_type": "code",
   "execution_count": 9,
   "metadata": {},
   "outputs": [
    {
     "data": {
      "text/plain": [
       "0    2762196\n",
       "1       8213\n",
       "Name: isFraud, dtype: int64"
      ]
     },
     "execution_count": 9,
     "metadata": {},
     "output_type": "execute_result"
    }
   ],
   "source": [
    "df['isFraud'].value_counts()"
   ]
  },
  {
   "cell_type": "code",
   "execution_count": 10,
   "metadata": {
    "collapsed": true
   },
   "outputs": [],
   "source": [
    "X = df.iloc[:,[0,1,2,4,5,7,8,10] ]\n",
    "y = df.iloc[:, [9]]"
   ]
  },
  {
   "cell_type": "code",
   "execution_count": 11,
   "metadata": {},
   "outputs": [
    {
     "data": {
      "text/html": [
       "<div>\n",
       "<style>\n",
       "    .dataframe thead tr:only-child th {\n",
       "        text-align: right;\n",
       "    }\n",
       "\n",
       "    .dataframe thead th {\n",
       "        text-align: left;\n",
       "    }\n",
       "\n",
       "    .dataframe tbody tr th {\n",
       "        vertical-align: top;\n",
       "    }\n",
       "</style>\n",
       "<table border=\"1\" class=\"dataframe\">\n",
       "  <thead>\n",
       "    <tr style=\"text-align: right;\">\n",
       "      <th></th>\n",
       "      <th>isFraud</th>\n",
       "    </tr>\n",
       "  </thead>\n",
       "  <tbody>\n",
       "    <tr>\n",
       "      <th>2</th>\n",
       "      <td>1</td>\n",
       "    </tr>\n",
       "    <tr>\n",
       "      <th>3</th>\n",
       "      <td>1</td>\n",
       "    </tr>\n",
       "    <tr>\n",
       "      <th>15</th>\n",
       "      <td>0</td>\n",
       "    </tr>\n",
       "    <tr>\n",
       "      <th>19</th>\n",
       "      <td>0</td>\n",
       "    </tr>\n",
       "    <tr>\n",
       "      <th>24</th>\n",
       "      <td>0</td>\n",
       "    </tr>\n",
       "  </tbody>\n",
       "</table>\n",
       "</div>"
      ],
      "text/plain": [
       "    isFraud\n",
       "2         1\n",
       "3         1\n",
       "15        0\n",
       "19        0\n",
       "24        0"
      ]
     },
     "execution_count": 11,
     "metadata": {},
     "output_type": "execute_result"
    }
   ],
   "source": [
    "y.head()"
   ]
  },
  {
   "cell_type": "markdown",
   "metadata": {
    "collapsed": true
   },
   "source": [
    "## trainデータとテストデータの分離"
   ]
  },
  {
   "cell_type": "code",
   "execution_count": 12,
   "metadata": {
    "collapsed": true
   },
   "outputs": [],
   "source": [
    "X_train, X_test, y_train, y_test = train_test_split(X, y, test_size=0.5, random_state=0)"
   ]
  },
  {
   "cell_type": "code",
   "execution_count": 13,
   "metadata": {},
   "outputs": [
    {
     "data": {
      "text/plain": [
       "0    1381117\n",
       "1       4087\n",
       "Name: isFraud, dtype: int64"
      ]
     },
     "execution_count": 13,
     "metadata": {},
     "output_type": "execute_result"
    }
   ],
   "source": [
    "y_train['isFraud'].value_counts()"
   ]
  },
  {
   "cell_type": "code",
   "execution_count": 14,
   "metadata": {},
   "outputs": [
    {
     "name": "stderr",
     "output_type": "stream",
     "text": [
      "C:\\Users\\yin.wu\\AppData\\Local\\Continuum\\anaconda3\\lib\\site-packages\\sklearn\\utils\\validation.py:578: DataConversionWarning: A column-vector y was passed when a 1d array was expected. Please change the shape of y to (n_samples, ), for example using ravel().\n",
      "  y = column_or_1d(y, warn=True)\n"
     ]
    },
    {
     "name": "stdout",
     "output_type": "stream",
     "text": [
      "X_train_resampled.shape: (40870, 8), y_train_resampled: (40870,)\n",
      "y_train_resample:\n",
      "0    36783\n",
      "1     4087\n",
      "dtype: int64\n"
     ]
    }
   ],
   "source": [
    "# ランダムにunder-sampling\n",
    "positive_count_train = y_train['isFraud'].sum()\n",
    "rus = RandomUnderSampler(ratio={0:positive_count_train*9, 1:positive_count_train}, random_state=0)\n",
    "X_train_resampled, y_train_resampled = rus.fit_sample(X_train, y_train)\n",
    "print('X_train_resampled.shape: {}, y_train_resampled: {}'.format(X_train_resampled.shape, y_train_resampled.shape))\n",
    "print('y_train_resample:\\n{}'.format(pd.Series(y_train_resampled).value_counts()))"
   ]
  },
  {
   "cell_type": "code",
   "execution_count": 15,
   "metadata": {},
   "outputs": [
    {
     "name": "stdout",
     "output_type": "stream",
     "text": [
      "Train score: 0.9987\n",
      "Test score: 0.9974\n",
      "Confusion matrix:\n",
      "[[1377887    3192]\n",
      " [    423    3703]]\n",
      "ROC-AUC Score 0.9476\n"
     ]
    }
   ],
   "source": [
    "# ランダムフォレストにて学習\n",
    "rfc = RandomForestClassifier(random_state=0, n_jobs=-1)\n",
    "rfc.fit(X_train_resampled, y_train_resampled)\n",
    "\n",
    "print('Train score: {:.4f}'.format(rfc.score(X_train_resampled, y_train_resampled)))\n",
    "print('Test score: {:.4f}'.format(rfc.score(X_test, y_test)))\n",
    "print('Confusion matrix:\\n{}'.format(confusion_matrix(y_test, rfc.predict(X_test))))\n",
    "print('ROC-AUC Score {:.4f}'.format(roc_auc_score(y_test, rfc.predict(X_test))))"
   ]
  },
  {
   "cell_type": "markdown",
   "metadata": {},
   "source": [
    "## 重要変数の可視化"
   ]
  },
  {
   "cell_type": "code",
   "execution_count": 16,
   "metadata": {},
   "outputs": [
    {
     "name": "stdout",
     "output_type": "stream",
     "text": [
      " 1) oldbalanceOrg                  0.358875\n",
      " 2) newbalanceDest                 0.212751\n",
      " 3) amount                         0.151669\n",
      " 4) step                           0.102287\n",
      " 5) oldbalanceDest                 0.085907\n",
      " 6) type                           0.057450\n",
      " 7) newbalanceOrig                 0.031062\n",
      " 8) isFlaggedFraud                 0.000000\n"
     ]
    }
   ],
   "source": [
    "feat_labels = X_test.columns[0:]\n",
    "importances = rfc.feature_importances_\n",
    "indices = np.argsort(importances)[::-1]\n",
    "for f in range(X_test.shape[1]):\n",
    "    print(\"%2d) %-*s %f\" %\n",
    "        (f+1, 30, feat_labels[indices[f]], importances[indices[f]]))"
   ]
  },
  {
   "cell_type": "code",
   "execution_count": 17,
   "metadata": {},
   "outputs": [
    {
     "data": {
      "image/png": "[encoded data removed]",
      "text/plain": [
       "<matplotlib.figure.Figure at 0x216c24db8d0>"
      ]
     },
     "metadata": {},
     "output_type": "display_data"
    }
   ],
   "source": [
    "plt.title('Feature Importances')\n",
    "plt.bar(range(X_test.shape[1]),importances[indices], color='lightblue', align='center')\n",
    "plt.xticks(range(X_test.shape[1]),feat_labels[indices],rotation=90)\n",
    "plt.xlim([-1,X_test.shape[1]])\n",
    "plt.tight_layout()\n",
    "plt.show()"
   ]
  },
  {
   "cell_type": "markdown",
   "metadata": {},
   "source": [
    "## 除いた変数を使って再度学習し、精度の向上を確認する。"
   ]
  },
  {
   "cell_type": "code",
   "execution_count": 18,
   "metadata": {
    "collapsed": true
   },
   "outputs": [],
   "source": [
    "#isFlaggedFraudは重要度が低いため取り除く\n",
    "X1 = df.iloc[:, [0,1,2,4,5,7,8]]\n",
    "y = df.iloc[:, [9]]"
   ]
  },
  {
   "cell_type": "code",
   "execution_count": 19,
   "metadata": {},
   "outputs": [
    {
     "name": "stderr",
     "output_type": "stream",
     "text": [
      "C:\\Users\\yin.wu\\AppData\\Local\\Continuum\\anaconda3\\lib\\site-packages\\sklearn\\utils\\validation.py:578: DataConversionWarning: A column-vector y was passed when a 1d array was expected. Please change the shape of y to (n_samples, ), for example using ravel().\n",
      "  y = column_or_1d(y, warn=True)\n"
     ]
    },
    {
     "name": "stdout",
     "output_type": "stream",
     "text": [
      "X_train_resampled.shape: (40870, 7), y_train_resampled: (40870,)\n",
      "y_train_resample:\n",
      "0    36783\n",
      "1     4087\n",
      "dtype: int64\n",
      "Train score: 0.9991\n",
      "Test score: 0.9971\n",
      "Confusion matrix:\n",
      "[[1377513    3566]\n",
      " [    416    3710]]\n",
      "ROC-AUC Score 0.9483\n"
     ]
    }
   ],
   "source": [
    "X1_train, X1_test, y_train, y_test = train_test_split(X1, y, test_size=0.5, random_state=0)\n",
    "\n",
    "positive_count_train = y_train['isFraud'].sum()\n",
    "rus = RandomUnderSampler(ratio={0:positive_count_train*9, 1:positive_count_train}, random_state=0)\n",
    "X_train_resampled, y_train_resampled = rus.fit_sample(X1_train, y_train)\n",
    "print('X_train_resampled.shape: {}, y_train_resampled: {}'.format(X_train_resampled.shape, y_train_resampled.shape))\n",
    "print('y_train_resample:\\n{}'.format(pd.Series(y_train_resampled).value_counts()))\n",
    "\n",
    "rfc = RandomForestClassifier(random_state=0, n_jobs=-1)\n",
    "rfc.fit(X_train_resampled, y_train_resampled)\n",
    "\n",
    "print('Train score: {:.4f}'.format(rfc.score(X_train_resampled, y_train_resampled)))\n",
    "print('Test score: {:.4f}'.format(rfc.score(X1_test, y_test)))\n",
    "print('Confusion matrix:\\n{}'.format(confusion_matrix(y_test, rfc.predict(X1_test))))\n",
    "print('ROC-AUC Score {:.4f}'.format(roc_auc_score(y_test, rfc.predict(X1_test))))"
   ]
  },
  {
   "cell_type": "markdown",
   "metadata": {},
   "source": [
    "## 余計な変数を除くとtrainデータに対する精度の向上が見られたが、testデータには見られない\n",
    "## 過学習の傾向があるが、ROC-AUCは向上"
   ]
  },
  {
   "cell_type": "markdown",
   "metadata": {},
   "source": [
    "## 当初の依頼に対する答えを用意するための追加検討事項\n",
    "- 重要変数と、isFraudの関係は？（比例又は反比例）\n",
    "- 精度解前後のconfusion matrixから何が言えるか？(誤検知と見逃しの件数の位置づけ)"
   ]
  },
  {
   "cell_type": "markdown",
   "metadata": {},
   "source": [
    "## (参考)標準化を実施する例 confusion_matrixの内訳は変わる"
   ]
  },
  {
   "cell_type": "code",
   "execution_count": 20,
   "metadata": {
    "collapsed": true
   },
   "outputs": [],
   "source": [
    "X1_train, X1_test, y_train, y_test = train_test_split(X1, y, test_size=0.5, random_state=0)"
   ]
  },
  {
   "cell_type": "code",
   "execution_count": 21,
   "metadata": {
    "collapsed": true
   },
   "outputs": [],
   "source": [
    "#標準化\n",
    "sc = StandardScaler()\n",
    "X1_train_std = sc.fit_transform(X1_train)\n",
    "X1_test_std = sc.transform(X1_test)"
   ]
  },
  {
   "cell_type": "code",
   "execution_count": 22,
   "metadata": {},
   "outputs": [
    {
     "name": "stderr",
     "output_type": "stream",
     "text": [
      "C:\\Users\\yin.wu\\AppData\\Local\\Continuum\\anaconda3\\lib\\site-packages\\sklearn\\utils\\validation.py:578: DataConversionWarning: A column-vector y was passed when a 1d array was expected. Please change the shape of y to (n_samples, ), for example using ravel().\n",
      "  y = column_or_1d(y, warn=True)\n"
     ]
    },
    {
     "name": "stdout",
     "output_type": "stream",
     "text": [
      "X_train_resampled.shape: (40870, 7), y_train_resampled: (40870,)\n",
      "y_train_resample:\n",
      "0    36783\n",
      "1     4087\n",
      "dtype: int64\n",
      "Train score: 0.9991\n",
      "Test score: 0.9971\n",
      "Confusion matrix:\n",
      "[[1377512    3567]\n",
      " [    417    3709]]\n",
      "ROC-AUC Score 0.9482\n"
     ]
    }
   ],
   "source": [
    "# ランダムにunder-sampling\n",
    "positive_count_train = y_train['isFraud'].sum()\n",
    "rus = RandomUnderSampler(ratio={0:positive_count_train*9, 1:positive_count_train}, random_state=0)\n",
    "X_train_std_resampled, y_train_resampled = rus.fit_sample(X1_train_std, y_train)\n",
    "print('X_train_resampled.shape: {}, y_train_resampled: {}'.format(X_train_resampled.shape, y_train_resampled.shape))\n",
    "print('y_train_resample:\\n{}'.format(pd.Series(y_train_resampled).value_counts()))\n",
    "\n",
    "\n",
    "rfc = RandomForestClassifier(random_state=0, n_jobs=-1)\n",
    "rfc.fit(X_train_std_resampled, y_train_resampled)\n",
    "\n",
    "print('Train score: {:.4f}'.format(rfc.score(X_train_std_resampled, y_train_resampled)))\n",
    "print('Test score: {:.4f}'.format(rfc.score(X1_test_std, y_test)))\n",
    "print('Confusion matrix:\\n{}'.format(confusion_matrix(y_test, rfc.predict(X1_test_std))))\n",
    "print('ROC-AUC Score {:.4f}'.format(roc_auc_score(y_test, rfc.predict(X1_test_std))))"
   ]
  },
  {
   "cell_type": "markdown",
   "metadata": {
    "collapsed": true
   },
   "source": [
    "## isFraudと重要変数間の関係"
   ]
  },
  {
   "cell_type": "code",
   "execution_count": 23,
   "metadata": {},
   "outputs": [
    {
     "data": {
      "text/plain": [
       "Text(0.5,0,'oldbalanceOrg')"
      ]
     },
     "execution_count": 23,
     "metadata": {},
     "output_type": "execute_result"
    },
    {
     "data": {
      "image/png": "[encoded data removed]",
      "text/plain": [
       "<matplotlib.figure.Figure at 0x21696913da0>"
      ]
     },
     "metadata": {},
     "output_type": "display_data"
    }
   ],
   "source": [
    "plt.scatter(df[\"oldbalanceOrg\"], df[\"isFraud\"])\n",
    "plt.ylabel(\"isFraud\")\n",
    "plt.xlabel(\"oldbalanceOrg\")"
   ]
  },
  {
   "cell_type": "code",
   "execution_count": 24,
   "metadata": {},
   "outputs": [
    {
     "data": {
      "text/plain": [
       "Text(0.5,0,'newbalanceDest')"
      ]
     },
     "execution_count": 24,
     "metadata": {},
     "output_type": "execute_result"
    },
    {
     "data": {
      "image/png": "[encoded data removed]",
      "text/plain": [
       "<matplotlib.figure.Figure at 0x216969136d8>"
      ]
     },
     "metadata": {},
     "output_type": "display_data"
    }
   ],
   "source": [
    "plt.scatter(df[\"newbalanceDest\"], df[\"isFraud\"])\n",
    "plt.ylabel(\"isFraud\")\n",
    "plt.xlabel(\"newbalanceDest\")"
   ]
  },
  {
   "cell_type": "markdown",
   "metadata": {},
   "source": [
    "## 重要変数と目的変数間に単純な関係は見られない\n",
    "## 次の策として、主成分分析の実施"
   ]
  },
  {
   "cell_type": "code",
   "execution_count": 25,
   "metadata": {
    "collapsed": true
   },
   "outputs": [],
   "source": [
    "from sklearn.linear_model import LogisticRegression\n",
    "from sklearn.decomposition import PCA"
   ]
  },
  {
   "cell_type": "code",
   "execution_count": 26,
   "metadata": {
    "collapsed": true
   },
   "outputs": [],
   "source": [
    "#主成分を指定して、PCAインスタンスを生成\n",
    "n=2\n",
    "pca = PCA(n_components=n)\n",
    "#ロジスティック回帰のインスタンスを生成\n",
    "lr=LogisticRegression()\n",
    "#トレーニングデータやテストデータをPCAに適合させる\n",
    "X1_train_pca = pca.fit_transform(X1_train_std)\n",
    "X1_test_pca = pca.fit_transform(X1_test_std)"
   ]
  },
  {
   "cell_type": "code",
   "execution_count": 27,
   "metadata": {},
   "outputs": [
    {
     "data": {
      "image/png": "[encoded data removed]",
      "text/plain": [
       "<matplotlib.figure.Figure at 0x216984fcc18>"
      ]
     },
     "metadata": {},
     "output_type": "display_data"
    }
   ],
   "source": [
    "colors = ['r','b','g']\n",
    "markers = ['s','x','o']\n",
    "\n",
    "for l,c, m in zip(np.unique(y_train), colors, markers):\n",
    "    plt.scatter(X1_train_pca[y_train.isFraud == l,0], X1_train_pca[y_train.isFraud == l,1], \n",
    "               c=c, label=l, marker=m)\n",
    "    \n",
    "plt.xlabel('PC1')\n",
    "plt.ylabel('PC2')\n",
    "plt.legend(loc='upper left')\n",
    "plt.show()"
   ]
  },
  {
   "cell_type": "markdown",
   "metadata": {},
   "source": [
    "## 第2主成分の値が高いほどFraudの可能性が高いことが示された"
   ]
  },
  {
   "cell_type": "markdown",
   "metadata": {},
   "source": [
    "## 続いて、第2主成分の構成を調べ、Fraudであるデータの特徴を分析する（主成分の固有値分解）"
   ]
  },
  {
   "cell_type": "code",
   "execution_count": 33,
   "metadata": {
    "collapsed": true
   },
   "outputs": [],
   "source": [
    "# numpy.linalg パッケージを読み込み\n",
    "from numpy import linalg as LA\n",
    "\n",
    "#主成分を指定して、PCAインスタンスを生成\n",
    "n=7\n",
    "pca = PCA(n_components=n)\n",
    "X1_std = sc.transform(X1)\n",
    "#トレーニングデータやテストデータをPCAに適合させる\n",
    "X1_pca = pca.fit_transform(X1_std)"
   ]
  },
  {
   "cell_type": "code",
   "execution_count": 34,
   "metadata": {},
   "outputs": [
    {
     "name": "stdout",
     "output_type": "stream",
     "text": [
      "\n",
      "EigenValues \n",
      "[ 2.30710012  1.61196023  1.07280515  0.99544968  0.60310359  0.19149857\n",
      "  0.0078913 ]\n",
      "\n",
      "EigenVectors \n",
      "[[  1.00000000e+00   8.95907153e-15  -9.34317699e-14  -1.34466780e-14\n",
      "    2.32685656e-14  -1.83688748e-16  -7.09894742e-18]\n",
      " [  9.02428939e-15  -1.00000000e+00  -1.71649648e-14  -2.28161219e-15\n",
      "    1.11924922e-15   3.13255320e-16  -1.35990493e-17]\n",
      " [ -9.26862704e-14   1.73774128e-14  -1.00000000e+00   3.21863205e-13\n",
      "   -1.48142720e-13   7.95517242e-17  -1.54560075e-18]\n",
      " [ -1.33806515e-14   2.02131026e-15  -3.23022802e-13  -1.00000000e+00\n",
      "   -2.16999217e-14   3.07350162e-16   1.12877025e-18]\n",
      " [ -2.32646181e-14   1.05608927e-15  -1.48918092e-13  -2.16446689e-14\n",
      "    1.00000000e+00   1.51879902e-15   3.71430139e-17]\n",
      " [ -1.83688748e-16  -3.19292897e-16  -1.24819720e-16  -2.28942040e-16\n",
      "    1.48201307e-15  -1.00000000e+00   3.24248392e-17]\n",
      " [  7.09894742e-18  -1.59666416e-17  -6.04061525e-19   1.70378508e-17\n",
      "   -3.21378810e-17   5.75975275e-18   1.00000000e+00]]\n"
     ]
    }
   ],
   "source": [
    "#共分散行列を作成\n",
    "cov_mat = np.cov(X1_pca.T)\n",
    "#固有値と固有ベクトルを計算\n",
    "eigen_vals, eigen_vecs = LA.eig(cov_mat.T)\n",
    "\n",
    "print ('\\nEigenValues \\n%s' % eigen_vals)\n",
    "print ('\\nEigenVectors \\n%s' %eigen_vecs)"
   ]
  },
  {
   "cell_type": "code",
   "execution_count": 35,
   "metadata": {},
   "outputs": [
    {
     "data": {
      "text/html": [
       "<div>\n",
       "<style>\n",
       "    .dataframe thead tr:only-child th {\n",
       "        text-align: right;\n",
       "    }\n",
       "\n",
       "    .dataframe thead th {\n",
       "        text-align: left;\n",
       "    }\n",
       "\n",
       "    .dataframe tbody tr th {\n",
       "        vertical-align: top;\n",
       "    }\n",
       "</style>\n",
       "<table border=\"1\" class=\"dataframe\">\n",
       "  <thead>\n",
       "    <tr style=\"text-align: right;\">\n",
       "      <th></th>\n",
       "      <th>step</th>\n",
       "      <th>type</th>\n",
       "      <th>amount</th>\n",
       "      <th>oldbalanceOrg</th>\n",
       "      <th>newbalanceOrig</th>\n",
       "      <th>oldbalanceDest</th>\n",
       "      <th>newbalanceDest</th>\n",
       "    </tr>\n",
       "  </thead>\n",
       "  <tbody>\n",
       "    <tr>\n",
       "      <th>0</th>\n",
       "      <td>1.000000e+00</td>\n",
       "      <td>9.024289e-15</td>\n",
       "      <td>-9.268627e-14</td>\n",
       "      <td>-1.338065e-14</td>\n",
       "      <td>-2.326462e-14</td>\n",
       "      <td>-1.836887e-16</td>\n",
       "      <td>7.098947e-18</td>\n",
       "    </tr>\n",
       "    <tr>\n",
       "      <th>1</th>\n",
       "      <td>8.959072e-15</td>\n",
       "      <td>-1.000000e+00</td>\n",
       "      <td>1.737741e-14</td>\n",
       "      <td>2.021310e-15</td>\n",
       "      <td>1.056089e-15</td>\n",
       "      <td>-3.192929e-16</td>\n",
       "      <td>-1.596664e-17</td>\n",
       "    </tr>\n",
       "    <tr>\n",
       "      <th>2</th>\n",
       "      <td>-9.343177e-14</td>\n",
       "      <td>-1.716496e-14</td>\n",
       "      <td>-1.000000e+00</td>\n",
       "      <td>-3.230228e-13</td>\n",
       "      <td>-1.489181e-13</td>\n",
       "      <td>-1.248197e-16</td>\n",
       "      <td>-6.040615e-19</td>\n",
       "    </tr>\n",
       "    <tr>\n",
       "      <th>3</th>\n",
       "      <td>-1.344668e-14</td>\n",
       "      <td>-2.281612e-15</td>\n",
       "      <td>3.218632e-13</td>\n",
       "      <td>-1.000000e+00</td>\n",
       "      <td>-2.164467e-14</td>\n",
       "      <td>-2.289420e-16</td>\n",
       "      <td>1.703785e-17</td>\n",
       "    </tr>\n",
       "    <tr>\n",
       "      <th>4</th>\n",
       "      <td>2.326857e-14</td>\n",
       "      <td>1.119249e-15</td>\n",
       "      <td>-1.481427e-13</td>\n",
       "      <td>-2.169992e-14</td>\n",
       "      <td>1.000000e+00</td>\n",
       "      <td>1.482013e-15</td>\n",
       "      <td>-3.213788e-17</td>\n",
       "    </tr>\n",
       "    <tr>\n",
       "      <th>5</th>\n",
       "      <td>-1.836887e-16</td>\n",
       "      <td>3.132553e-16</td>\n",
       "      <td>7.955172e-17</td>\n",
       "      <td>3.073502e-16</td>\n",
       "      <td>1.518799e-15</td>\n",
       "      <td>-1.000000e+00</td>\n",
       "      <td>5.759753e-18</td>\n",
       "    </tr>\n",
       "    <tr>\n",
       "      <th>6</th>\n",
       "      <td>-7.098947e-18</td>\n",
       "      <td>-1.359905e-17</td>\n",
       "      <td>-1.545601e-18</td>\n",
       "      <td>1.128770e-18</td>\n",
       "      <td>3.714301e-17</td>\n",
       "      <td>3.242484e-17</td>\n",
       "      <td>1.000000e+00</td>\n",
       "    </tr>\n",
       "  </tbody>\n",
       "</table>\n",
       "</div>"
      ],
      "text/plain": [
       "           step          type        amount  oldbalanceOrg  newbalanceOrig  \\\n",
       "0  1.000000e+00  9.024289e-15 -9.268627e-14  -1.338065e-14   -2.326462e-14   \n",
       "1  8.959072e-15 -1.000000e+00  1.737741e-14   2.021310e-15    1.056089e-15   \n",
       "2 -9.343177e-14 -1.716496e-14 -1.000000e+00  -3.230228e-13   -1.489181e-13   \n",
       "3 -1.344668e-14 -2.281612e-15  3.218632e-13  -1.000000e+00   -2.164467e-14   \n",
       "4  2.326857e-14  1.119249e-15 -1.481427e-13  -2.169992e-14    1.000000e+00   \n",
       "5 -1.836887e-16  3.132553e-16  7.955172e-17   3.073502e-16    1.518799e-15   \n",
       "6 -7.098947e-18 -1.359905e-17 -1.545601e-18   1.128770e-18    3.714301e-17   \n",
       "\n",
       "   oldbalanceDest  newbalanceDest  \n",
       "0   -1.836887e-16    7.098947e-18  \n",
       "1   -3.192929e-16   -1.596664e-17  \n",
       "2   -1.248197e-16   -6.040615e-19  \n",
       "3   -2.289420e-16    1.703785e-17  \n",
       "4    1.482013e-15   -3.213788e-17  \n",
       "5   -1.000000e+00    5.759753e-18  \n",
       "6    3.242484e-17    1.000000e+00  "
      ]
     },
     "execution_count": 35,
     "metadata": {},
     "output_type": "execute_result"
    }
   ],
   "source": [
    "pd.DataFrame(eigen_vecs.T, columns=X1.columns)"
   ]
  },
  {
   "cell_type": "markdown",
   "metadata": {},
   "source": [
    "## 第2主成分の構成要素の可視化"
   ]
  },
  {
   "cell_type": "code",
   "execution_count": 36,
   "metadata": {},
   "outputs": [
    {
     "data": {
      "image/png": "[encoded data removed]",
      "text/plain": [
       "<matplotlib.figure.Figure at 0x21698515b70>"
      ]
     },
     "metadata": {},
     "output_type": "display_data"
    }
   ],
   "source": [
    "pd.DataFrame(eigen_vecs.T, columns=X1.columns).iloc[1, 2:].plot(kind=\"bar\", title=\"2nd eigen_vecs\");"
   ]
  },
  {
   "cell_type": "markdown",
   "metadata": {},
   "source": [
    "金額以外に第2主成分の構成要素となっている項目は送り元の取引前残高である。\n",
    "これと第2主成分の関係性を可視化してみる。"
   ]
  },
  {
   "cell_type": "code",
   "execution_count": 37,
   "metadata": {},
   "outputs": [
    {
     "data": {
      "image/png": "[encoded data removed]",
      "text/plain": [
       "<matplotlib.figure.Figure at 0x2169a9d6080>"
      ]
     },
     "metadata": {},
     "output_type": "display_data"
    }
   ],
   "source": [
    "#PC2と送り元の取引前残高の関係性を見る-Fraudの場合\n",
    "PC2 = X1_pca[:,1]\n",
    "oldbalanceOrg = X1.iloc[:,3]\n",
    "\n",
    "plt.scatter(PC2[y.isFraud == 1], oldbalanceOrg[y.isFraud == 1], \n",
    "               c=c, label=l, marker=m)\n",
    "    \n",
    "plt.xlabel('PC2')\n",
    "plt.ylabel('oldbalanceOrg')\n",
    "plt.show()"
   ]
  },
  {
   "cell_type": "code",
   "execution_count": 38,
   "metadata": {},
   "outputs": [
    {
     "data": {
      "image/png": "[encoded data removed]",
      "text/plain": [
       "<matplotlib.figure.Figure at 0x21699b9fba8>"
      ]
     },
     "metadata": {},
     "output_type": "display_data"
    }
   ],
   "source": [
    "#PC2と送り元の取引前残高の関係性を見る-Fraudでない場合\n",
    "plt.scatter(PC2[y.isFraud == 0], oldbalanceOrg[y.isFraud == 0], \n",
    "               c=\"r\", label=l, marker=m)\n",
    "    \n",
    "plt.xlabel('PC2')\n",
    "plt.ylabel('oldbalanceOrg')\n",
    "plt.show()"
   ]
  },
  {
   "cell_type": "code",
   "execution_count": 39,
   "metadata": {},
   "outputs": [
    {
     "data": {
      "image/png": "[encoded data removed]",
      "text/plain": [
       "<matplotlib.figure.Figure at 0x2169aa29d68>"
      ]
     },
     "metadata": {},
     "output_type": "display_data"
    }
   ],
   "source": [
    "#PC2と金額の関係性を見る-Fraudの場合\n",
    "PC2 = X1_pca[:,1]\n",
    "Amount = X1.iloc[:,2]\n",
    "\n",
    "plt.scatter(PC2[y.isFraud == 1], Amount[y.isFraud == 1], \n",
    "               c=c, label=l, marker=m)\n",
    "    \n",
    "plt.xlabel('PC2')\n",
    "plt.ylabel('Amount')\n",
    "plt.show()"
   ]
  },
  {
   "cell_type": "code",
   "execution_count": 40,
   "metadata": {},
   "outputs": [
    {
     "data": {
      "image/png": "[encoded data removed]",
      "text/plain": [
       "<matplotlib.figure.Figure at 0x2169a9d6a90>"
      ]
     },
     "metadata": {},
     "output_type": "display_data"
    }
   ],
   "source": [
    "#PC2と金額の関係性を見る-Fraudでない場合\n",
    "PC2 = X1_pca[:,1]\n",
    "Amount = X1.iloc[:,2]\n",
    "\n",
    "plt.scatter(PC2[y.isFraud == 0], Amount[y.isFraud == 0], \n",
    "               c=\"r\", label=l, marker=m)\n",
    "    \n",
    "plt.xlabel('PC2')\n",
    "plt.ylabel('Amount')\n",
    "plt.show()"
   ]
  },
  {
   "cell_type": "markdown",
   "metadata": {},
   "source": [
    "## 主な構成要素である\"金額\"と\"送り元の取引前残高\"と第2主成分の関係性を示したグラフにより、Fraudデータの特徴として、取引金額が高額で且つ送り元の取引前残高が高いことが言える。"
   ]
  },
  {
   "cell_type": "markdown",
   "metadata": {
    "collapsed": true
   },
   "source": [
    "## また、予測モデルを使用することにより実業務への影響として\n",
    "## Randomforestの結果計算されたConfusion Matrixより、予測モデルで不正取引として判定された取引に対してのみ不正検知を実施することで、業務量を大幅に改善することができ、且つ検証作業の精緻化するにもつながる。\n",
    "\n",
    "例（Training Data)：従来、約139万件全件に対して不正検知を実施していたとすれば、予測モデルにより不正取引として判定された約7千件のデータまで作業量を減らすことができ、割合にすると業務量の99.5%が削減される。また、モデルの精度から全不正取引のうち約9割を不正であると正しく判断できるため、検証作業が精緻化されたとも言える。"
   ]
  },
  {
   "cell_type": "code",
   "execution_count": null,
   "metadata": {
    "collapsed": true
   },
   "outputs": [],
   "source": []
  }
 ],
 "metadata": {
  "kernelspec": {
   "display_name": "Python 3",
   "language": "python",
   "name": "python3"
  },
  "language_info": {
   "codemirror_mode": {
    "name": "ipython",
    "version": 3
   },
   "file_extension": ".py",
   "mimetype": "text/x-python",
   "name": "python",
   "nbconvert_exporter": "python",
   "pygments_lexer": "ipython3",
   "version": "3.6.3"
  }
 },
 "nbformat": 4,
 "nbformat_minor": 2
}
